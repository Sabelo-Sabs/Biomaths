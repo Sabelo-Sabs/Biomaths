{
  "nbformat": 4,
  "nbformat_minor": 0,
  "metadata": {
    "colab": {
      "name": "Population Models.ipynb",
      "provenance": [],
      "collapsed_sections": [],
      "toc_visible": true,
      "authorship_tag": "ABX9TyNTp3xoV6VMzi8w5/EWR2OR",
      "include_colab_link": true
    },
    "kernelspec": {
      "name": "python3",
      "display_name": "Python 3"
    },
    "language_info": {
      "name": "python"
    }
  },
  "cells": [
    {
      "cell_type": "markdown",
      "metadata": {
        "id": "view-in-github",
        "colab_type": "text"
      },
      "source": [
        "<a href=\"https://colab.research.google.com/github/Sabelo-Sabs/Biomaths/blob/main/Population_Models.ipynb\" target=\"_parent\"><img src=\"https://colab.research.google.com/assets/colab-badge.svg\" alt=\"Open In Colab\"/></a>"
      ]
    },
    {
      "cell_type": "markdown",
      "metadata": {
        "id": "ATH1yLl74J61"
      },
      "source": [
        "# Predator Prey Model"
      ]
    },
    {
      "cell_type": "code",
      "metadata": {
        "id": "SR3Eul_k2Yhk"
      },
      "source": [
        "from sympy import *\n",
        "import numpy as np\n",
        "import matplotlib.pyplot as plt\n",
        "from scipy.integrate import odeint"
      ],
      "execution_count": 12,
      "outputs": []
    },
    {
      "cell_type": "code",
      "metadata": {
        "id": "NNjnNyng4Nbb"
      },
      "source": [
        "x,y,z,t = symbols(\"x y z t\")"
      ],
      "execution_count": 13,
      "outputs": []
    },
    {
      "cell_type": "code",
      "metadata": {
        "id": "N8_k6S3O4xe8"
      },
      "source": [
        "def dzdt(z,t):\n",
        "  x = z[0]\n",
        "  y = z[1]\n",
        "  return [x*(1-y),-y*(1-x)]\n"
      ],
      "execution_count": 14,
      "outputs": []
    },
    {
      "cell_type": "code",
      "metadata": {
        "id": "z1l1_Ofh5vhG"
      },
      "source": [
        "ts = np.linspace(0,12,100)\n",
        "z0 =[1.5, 1.0]\n",
        "zs = odeint(dzdt,z0,ts)"
      ],
      "execution_count": 15,
      "outputs": []
    },
    {
      "cell_type": "code",
      "metadata": {
        "colab": {
          "base_uri": "https://localhost:8080/"
        },
        "id": "zy2OEXNS6a6M",
        "outputId": "6c3d2df5-e705-4385-c205-7a33a4e29536"
      },
      "source": [
        "zs"
      ],
      "execution_count": 16,
      "outputs": [
        {
          "output_type": "execute_result",
          "data": {
            "text/plain": [
              "array([[1.5       , 1.        ],\n",
              "       [1.49439862, 1.06224069],\n",
              "       [1.47739703, 1.12681252],\n",
              "       [1.44911778, 1.19202878],\n",
              "       [1.41027386, 1.25588724],\n",
              "       [1.36215126, 1.3161904 ],\n",
              "       [1.30651777, 1.37071514],\n",
              "       [1.24546865, 1.41740795],\n",
              "       [1.18123595, 1.45457185],\n",
              "       [1.11599541, 1.48101162],\n",
              "       [1.05170361, 1.49611312],\n",
              "       [0.98998729, 1.49984863],\n",
              "       [0.93209134, 1.49271715],\n",
              "       [0.8788795 , 1.47563913],\n",
              "       [0.83087334, 1.44982985],\n",
              "       [0.78831291, 1.4166729 ],\n",
              "       [0.75122441, 1.37760898],\n",
              "       [0.71948462, 1.33404818],\n",
              "       [0.69287622, 1.28730775],\n",
              "       [0.67113155, 1.23857353],\n",
              "       [0.65396504, 1.18888073],\n",
              "       [0.64109578, 1.13910934],\n",
              "       [0.63226202, 1.08998969],\n",
              "       [0.62722965, 1.04211431],\n",
              "       [0.62579632, 0.99595326],\n",
              "       [0.62779247, 0.95187089],\n",
              "       [0.63308038, 0.91014249],\n",
              "       [0.6415518 , 0.87097023],\n",
              "       [0.65312478, 0.83449765],\n",
              "       [0.66773983, 0.80082282],\n",
              "       [0.68535566, 0.7700098 ],\n",
              "       [0.70594444, 0.74209883],\n",
              "       [0.72948668, 0.71711512],\n",
              "       [0.75596545, 0.69507663],\n",
              "       [0.78536   , 0.67600085],\n",
              "       [0.81763848, 0.65991084],\n",
              "       [0.85274969, 0.64684066],\n",
              "       [0.89061358, 0.63684034],\n",
              "       [0.93111044, 0.62998029],\n",
              "       [0.97406857, 0.62635544],\n",
              "       [1.01925042, 0.62608871],\n",
              "       [1.06633736, 0.62933383],\n",
              "       [1.11491325, 0.63627706],\n",
              "       [1.1644476 , 0.64713729],\n",
              "       [1.21427941, 0.66216341],\n",
              "       [1.26360318, 0.68162838],\n",
              "       [1.31145995, 0.70581774],\n",
              "       [1.35673628, 0.73501135],\n",
              "       [1.39817585, 0.76945594],\n",
              "       [1.43440783, 0.80932705],\n",
              "       [1.46399717, 0.85467928],\n",
              "       [1.48551973, 0.90538586],\n",
              "       [1.49766258, 0.96107151],\n",
              "       [1.49934458, 1.02104674],\n",
              "       [1.48984507, 1.08425636],\n",
              "       [1.46892281, 1.14925784],\n",
              "       [1.43690075, 1.21424606],\n",
              "       [1.39469465, 1.27713524],\n",
              "       [1.34377   , 1.33569803],\n",
              "       [1.2860271 , 1.38774727],\n",
              "       [1.22363063, 1.43133239],\n",
              "       [1.15881413, 1.46491554],\n",
              "       [1.09369402, 1.48749609],\n",
              "       [1.030123  , 1.4986645 ],\n",
              "       [0.96959947, 1.49858369],\n",
              "       [0.91323492, 1.48791101],\n",
              "       [0.86176963, 1.46768293],\n",
              "       [0.81562092, 1.43918635],\n",
              "       [0.77494766, 1.40383596],\n",
              "       [0.73971779, 1.36307052],\n",
              "       [0.7097701 , 1.31827395],\n",
              "       [0.68486558, 1.27072159],\n",
              "       [0.66472731, 1.22154885],\n",
              "       [0.64906924, 1.17173747],\n",
              "       [0.63761572, 1.12211499],\n",
              "       [0.6301138 , 1.0733628 ],\n",
              "       [0.62634002, 1.02602948],\n",
              "       [0.6261033 , 0.98054684],\n",
              "       [0.62924521, 0.93724675],\n",
              "       [0.63563848, 0.89637763],\n",
              "       [0.64518431, 0.85811993],\n",
              "       [0.65780891, 0.82260014],\n",
              "       [0.67345956, 0.78990342],\n",
              "       [0.69210015, 0.76008457],\n",
              "       [0.71370634, 0.73317771],\n",
              "       [0.73826019, 0.70920476],\n",
              "       [0.7657442 , 0.68818277],\n",
              "       [0.79613469, 0.6701305 ],\n",
              "       [0.82939414, 0.65507421],\n",
              "       [0.86546257, 0.64305292],\n",
              "       [0.9042476 , 0.63412318],\n",
              "       [0.94561309, 0.6283634 ],\n",
              "       [0.98936634, 0.62587776],\n",
              "       [1.03524373, 0.62679951],\n",
              "       [1.08289497, 0.63129344],\n",
              "       [1.13186653, 0.6395571 ],\n",
              "       [1.18158476, 0.65182018],\n",
              "       [1.2313404 , 0.66834074],\n",
              "       [1.28027586, 0.68939767],\n",
              "       [1.32737864, 0.71527702]])"
            ]
          },
          "metadata": {},
          "execution_count": 16
        }
      ]
    },
    {
      "cell_type": "code",
      "metadata": {
        "id": "-wUAkGYK6e7N"
      },
      "source": [
        "prey = zs[:,0]\n",
        "predator = zs[:,1]"
      ],
      "execution_count": 17,
      "outputs": []
    },
    {
      "cell_type": "code",
      "metadata": {
        "colab": {
          "base_uri": "https://localhost:8080/",
          "height": 312
        },
        "id": "5IWWBYzz6qNH",
        "outputId": "36f6275f-bfc8-4f76-f3e7-51d4f9300458"
      },
      "source": [
        "plt.plot(ts,prey,\"-\",label =\"rabbits\")\n",
        "plt.plot(ts,predator,\"-\",label =\"foxes\")\n",
        "plt.xlabel(\"Time\")\n",
        "plt.ylabel(\"Population\")\n",
        "plt.legend()\n",
        "plt.title(\"Population over time\")"
      ],
      "execution_count": 18,
      "outputs": [
        {
          "output_type": "execute_result",
          "data": {
            "text/plain": [
              "Text(0.5, 1.0, 'Population over time')"
            ]
          },
          "metadata": {},
          "execution_count": 18
        },
        {
          "output_type": "display_data",
          "data": {
            "image/png": "[encoded data removed]",
            "text/plain": [
              "<Figure size 432x288 with 1 Axes>"
            ]
          },
          "metadata": {
            "needs_background": "light"
          }
        }
      ]
    },
    {
      "cell_type": "markdown",
      "metadata": {
        "id": "VxDyNEs87e-w"
      },
      "source": [
        "----"
      ]
    },
    {
      "cell_type": "code",
      "metadata": {
        "id": "LynBoWCe7Rae"
      },
      "source": [
        ""
      ],
      "execution_count": 18,
      "outputs": []
    },
    {
      "cell_type": "markdown",
      "metadata": {
        "id": "0GvKZl9J7gp8"
      },
      "source": [
        "# Logistic model"
      ]
    },
    {
      "cell_type": "code",
      "metadata": {
        "id": "BVoCkD4c7p-K"
      },
      "source": [
        "def model(y,x):\n",
        "  dydx = (10-(5*y/100))\n",
        "  return dydx"
      ],
      "execution_count": 20,
      "outputs": []
    },
    {
      "cell_type": "code",
      "metadata": {
        "id": "V8NjjZSD8BFt"
      },
      "source": [
        "x = np.linspace(0,100)\n",
        "y0 = 20"
      ],
      "execution_count": 21,
      "outputs": []
    },
    {
      "cell_type": "code",
      "metadata": {
        "id": "IxyObnLF8c5Z"
      },
      "source": [
        "y = odeint(model,y0,x)"
      ],
      "execution_count": 22,
      "outputs": []
    },
    {
      "cell_type": "code",
      "metadata": {
        "colab": {
          "base_uri": "https://localhost:8080/",
          "height": 329
        },
        "id": "sq7eYRSR8iiz",
        "outputId": "40a2f25c-2e92-4d60-8cde-a7d3910a6d7c"
      },
      "source": [
        "plt.plot(x,y)\n",
        "plt.xlabel(\"Time\")\n",
        "plt.ylabel(\"Population\")\n",
        "plt.legend()\n",
        "plt.title(\"Population over time\")"
      ],
      "execution_count": 23,
      "outputs": [
        {
          "output_type": "stream",
          "name": "stderr",
          "text": [
            "No handles with labels found to put in legend.\n"
          ]
        },
        {
          "output_type": "execute_result",
          "data": {
            "text/plain": [
              "Text(0.5, 1.0, 'Population over time')"
            ]
          },
          "metadata": {},
          "execution_count": 23
        },
        {
          "output_type": "display_data",
          "data": {
            "image/png": "[encoded data removed]",
            "text/plain": [
              "<Figure size 432x288 with 1 Axes>"
            ]
          },
          "metadata": {
            "needs_background": "light"
          }
        }
      ]
    },
    {
      "cell_type": "markdown",
      "metadata": {
        "id": "nURfIycj_DBr"
      },
      "source": [
        "----"
      ]
    },
    {
      "cell_type": "code",
      "metadata": {
        "id": "giZ9lOV28yVX"
      },
      "source": [
        ""
      ],
      "execution_count": null,
      "outputs": []
    }
  ]
}